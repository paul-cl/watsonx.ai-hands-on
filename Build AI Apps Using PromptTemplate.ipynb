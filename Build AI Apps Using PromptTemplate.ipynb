{
 "cells": [
  {
   "cell_type": "markdown",
   "id": "60ed863d",
   "metadata": {},
   "source": [
    "# Prompt Template으로 배포한 AI Service 사용하기\n",
    "Prompt Template을 사용하여 AI Service를 배포한 후, 해당 서비스를 사용하는 방법에 대해 설명합니다.\n"
   ]
  },
  {
   "cell_type": "markdown",
   "id": "1a9b3eda",
   "metadata": {},
   "source": [
    "## 라이브러리 설치\n"
   ]
  },
  {
   "cell_type": "code",
   "execution_count": null,
   "id": "637a28f9",
   "metadata": {},
   "outputs": [],
   "source": [
    "import os\n",
    "os.environ[\"TOKENIZERS_PARALLELISM\"] = \"false\"\n",
    "\n",
    "!pip install ibm-watsonx-ai==1.3.6"
   ]
  },
  {
   "cell_type": "markdown",
   "id": "0602522f",
   "metadata": {},
   "source": [
    "## 환경정보 설정"
   ]
  },
  {
   "cell_type": "code",
   "execution_count": null,
   "id": "9a731546",
   "metadata": {},
   "outputs": [],
   "source": [
    "# IBM Cloud API Key와 URL 설정\n",
    "api_key = \"<CLOUD_API_KEY>\"\n",
    "# region에 따라 주소가 다를 수 있습니다. 주소를 확인해 주세요.\n",
    "ibm_cloud_url = \"https://us-south.ml.cloud.ibm.com\" \n",
    "\n",
    "\n",
    "# 배포한 프롬프트 템플릿 모델의 AI Service URL\n",
    "ibm_ai_service_url = \"<IBM_AI_SERVICE_URL>\"\n"
   ]
  },
  {
   "cell_type": "markdown",
   "id": "7771236c",
   "metadata": {},
   "source": [
    "번역할 원문을 입력합니다."
   ]
  },
  {
   "cell_type": "code",
   "execution_count": null,
   "id": "ebb2e6bf",
   "metadata": {},
   "outputs": [],
   "source": [
    "user_input = \"진짜 강한 힘은 나를 넘어 ‘우리’를 생각할 때 나온다. 더 큰 가치를 위해 싸운 사람만이 진짜 세상을 바꿀 수 있다\"\n",
    "# user_input = \"성공은 열정을 잃지 않고 실패를 거듭할 수 있는 능력이다.\""
   ]
  },
  {
   "cell_type": "markdown",
   "id": "0b8d46bd",
   "metadata": {},
   "source": [
    "배포한 AI Service를 호출하여 처리 결과를 확인합니다."
   ]
  },
  {
   "cell_type": "code",
   "execution_count": null,
   "id": "c8d59e69",
   "metadata": {},
   "outputs": [],
   "source": [
    "import requests\n",
    "import json\n",
    "\n",
    "# IBM Cloud API Key를 사용하여 토큰 발급\n",
    "token_response = requests.post(\n",
    "    'https://iam.cloud.ibm.com/identity/token',\n",
    "    data={\n",
    "        \"apikey\": api_key,\n",
    "        \"grant_type\": 'urn:ibm:params:oauth:grant-type:apikey'\n",
    "    }\n",
    ")\n",
    "mltoken = token_response.json().get(\"access_token\")\n",
    "if not mltoken:\n",
    "    raise Exception(\"토큰 발급 실패!\")\n",
    "\n",
    "headers = {\n",
    "    'Content-Type': 'application/json',\n",
    "    'Authorization': f'Bearer {mltoken}',\n",
    "    'Accept': 'text/event-stream'  # 스트리밍 응답 처리용 헤더\n",
    "}\n",
    "\n",
    "payload_scoring = {\n",
    "    \"parameters\": \n",
    "        {\n",
    "            \"prompt_variables\": \n",
    "            {\n",
    "                \"context\" : user_input\n",
    "            }\n",
    "        }\n",
    "    \n",
    "}\n",
    "\n",
    "response = requests.post(\n",
    "    ibm_ai_service_url,\n",
    "    headers=headers,\n",
    "    json=payload_scoring,\n",
    "    stream=True\n",
    ")\n",
    "\n",
    "\n",
    "print(\"=== 응답 결과 ===\")\n",
    "# print(response.json())\n",
    "# generated_text 추출\n",
    "generated_text = response.json()['results'][0]['generated_text']\n",
    "\n",
    "# 첫 줄만 추출\n",
    "first_line = generated_text.split('\\n\\nInput')[0]\n",
    "\n",
    "# 결과 출력\n",
    "print(\"원문 : \" + user_input)\n",
    "print(\"번역 :\" + first_line)\n"
   ]
  }
 ],
 "metadata": {
  "language_info": {
   "name": "python"
  }
 },
 "nbformat": 4,
 "nbformat_minor": 5
}
