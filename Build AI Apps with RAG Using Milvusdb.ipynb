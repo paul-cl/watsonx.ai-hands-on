{
 "cells": [
  {
   "cell_type": "markdown",
   "id": "b8b855cc",
   "metadata": {},
   "source": [
    "# MilvusDB 사용하기\n",
    "milvusdb에 콜렉션을 생성하고 스키마를 정의한 후 데이터를 입력합니다.\n",
    "입력한 데이터를 검색합니다.\n",
    "작업이 완료되면 생성한 컬렉션을 삭제합니다."
   ]
  },
  {
   "cell_type": "code",
   "execution_count": null,
   "id": "888c7b80",
   "metadata": {},
   "outputs": [],
   "source": [
    "import os\n",
    "os.environ[\"TOKENIZERS_PARALLELISM\"] = \"false\"\n",
    "\n",
    "!pip install -U langchain-huggingface==0.1.2\n",
    "!pip install chromadb==0.4.2\n",
    "!pip install pydantic==1.10.21\n",
    "!pip install langchain==0.3.0\n",
    "!pip install langchain --upgrade\n",
    "!pip install flask-sqlalchemy --user\n",
    "!pip install --upgrade pypdf\n",
    "!pip install --upgrade cryptography\n",
    "!pip install sentence-transformers\n",
    "!pip install langchain_openai\n",
    "!pip install langchain_community\n",
    "\n",
    "!pip install ibm-cos-sdk==2.12.0\n",
    "!pip install ibm-cos-sdk-core==2.12.0\n",
    "!pip install ibm-cos-sdk-s3transfer==2.12.0\n",
    "!pip install ibm-watson-machine-learning==1.0.356\n",
    "!pip install pymilvus\n",
    "!pip install -U langchain-ibm"
   ]
  },
  {
   "cell_type": "markdown",
   "id": "2fdf8aa8",
   "metadata": {},
   "source": [
    "라이브러리 설치가 완료 되었으면 노트북 커널을 Restart 합니다.\n",
    "메뉴에서 `kernel > restart` 를 실행합니다."
   ]
  },
  {
   "cell_type": "code",
   "execution_count": null,
   "id": "50d50f42",
   "metadata": {},
   "outputs": [],
   "source": [
    "# pip show pymilvus --files"
   ]
  },
  {
   "cell_type": "markdown",
   "id": "8d905e24",
   "metadata": {},
   "source": [
    "### Milvusdb  접속\n",
    "Milvus 클라이언트 설치"
   ]
  },
  {
   "cell_type": "code",
   "execution_count": null,
   "id": "f56290bc",
   "metadata": {},
   "outputs": [],
   "source": [
    "from sentence_transformers import SentenceTransformer\n",
    "from pymilvus import connections,utility,Collection,CollectionSchema, FieldSchema,DataType\n",
    "from langchain.vectorstores import Milvus\n",
    "from langchain.embeddings import HuggingFaceEmbeddings, SentenceTransformerEmbeddings\n",
    "from langchain.docstore.document import Document\n"
   ]
  },
  {
   "cell_type": "markdown",
   "id": "717373c7",
   "metadata": {},
   "source": [
    "milvus 접속 정보를 변경합니다.   "
   ]
  },
  {
   "cell_type": "code",
   "execution_count": null,
   "id": "e38ec7e3",
   "metadata": {},
   "outputs": [],
   "source": [
    "MILVUS_DB_HOST = \"<MILVUS_DB_HOST>\" # milvusdb 호스트 정보를 변경합니다.\n",
    "MILVUS_DB_USER = \"root\" \n",
    "MILVUS_DB_PWD = \"Milvus\"\n",
    "MILVUS_DB_PORT = \"19530\"\n"
   ]
  },
  {
   "cell_type": "markdown",
   "id": "72e5af19",
   "metadata": {},
   "source": [
    "컬렉션 명을 지정합니다.   \n",
    "규칙 : kr_covid19_랩번호"
   ]
  },
  {
   "cell_type": "code",
   "execution_count": null,
   "id": "2286c805",
   "metadata": {},
   "outputs": [],
   "source": [
    "COLLECTION_NAME=\"kr_genai_lab_<YOUR NAME>\"\n",
    "PDF_FILE_NAME='KR-TMT2024-GEN-AI.pdf'"
   ]
  },
  {
   "cell_type": "markdown",
   "id": "6f1e7972",
   "metadata": {},
   "source": [
    "## Using Langchain"
   ]
  },
  {
   "cell_type": "code",
   "execution_count": null,
   "id": "947b8b5b",
   "metadata": {},
   "outputs": [],
   "source": [
    "# Import library\n",
    "from ibm_watson_studio_lib import access_project_or_space\n",
    "from langchain.chains import RetrievalQA"
   ]
  },
  {
   "cell_type": "markdown",
   "id": "4e0d40d1",
   "metadata": {},
   "source": [
    "IBM Cloud의 watsonx 서비스에서 프로젝트 토큰 정보를 가져옵니다.   \n",
    "메뉴는 `Project > Manage > Access Contorl > Access Tokens`입니다. 생성된 토큰 정보를 복사하여 `<YOUR ACCESS TOKEN HERE>`값을 삭제하고 여기에 붙여넣습니다.   "
   ]
  },
  {
   "cell_type": "code",
   "execution_count": null,
   "id": "7ca37f9a",
   "metadata": {},
   "outputs": [],
   "source": [
    "# Create access token in project\n",
    "token = \"<YOUR ACCESS TOKEN HERE>\"\n",
    "wslib = access_project_or_space({\"token\":token})\n",
    "wslib.download_file(PDF_FILE_NAME)"
   ]
  },
  {
   "cell_type": "code",
   "execution_count": null,
   "id": "49af70cc",
   "metadata": {},
   "outputs": [],
   "source": [
    "from langchain.document_loaders import PyPDFLoader\n",
    "from langchain.text_splitter import CharacterTextSplitter\n",
    "\n",
    "\n",
    "loader = PyPDFLoader(PDF_FILE_NAME)\n",
    "pages = loader.load_and_split()"
   ]
  },
  {
   "cell_type": "code",
   "execution_count": null,
   "id": "ad40642b",
   "metadata": {},
   "outputs": [],
   "source": [
    "len(pages)"
   ]
  },
  {
   "cell_type": "markdown",
   "id": "f2b6c044",
   "metadata": {},
   "source": [
    "청크는 기본적으로 문자수를 가지고 길이를 측정합니다. chunk_size는 분할될 최대 문자수입니다.\n",
    "* 텍스트 분할 방법: 단일 문자 기준.\n",
    "* 청크 크기 측정 방법: 문자 수 기준."
   ]
  },
  {
   "cell_type": "code",
   "execution_count": null,
   "id": "2c8b1ba3",
   "metadata": {},
   "outputs": [],
   "source": [
    "text_splitter = CharacterTextSplitter(\n",
    "    separator=\"\\n\",\n",
    "    chunk_size=10000, \n",
    "    chunk_overlap=0)\n",
    "docs = text_splitter.split_documents(pages)"
   ]
  },
  {
   "cell_type": "code",
   "execution_count": null,
   "id": "6c5b1d43",
   "metadata": {},
   "outputs": [],
   "source": [
    "len(docs)\n"
   ]
  },
  {
   "cell_type": "markdown",
   "id": "d8e4b033",
   "metadata": {},
   "source": [
    "청크 내용을 확인합니다."
   ]
  },
  {
   "cell_type": "code",
   "execution_count": null,
   "id": "ecc05ce3",
   "metadata": {},
   "outputs": [],
   "source": [
    "i=0\n",
    "for doc in docs:\n",
    "    i+=1\n",
    "    print(\">청크 번호 : \",i)\n",
    "    print(\">청크 사이즈 : \",len(docs[i-1].page_content))\n",
    "    print(\">청크 내용 : \")\n",
    "    print(doc.page_content)\n",
    "    print(\"\\n\")"
   ]
  },
  {
   "cell_type": "markdown",
   "id": "6a8d90f3",
   "metadata": {},
   "source": [
    "임베딩 모델을 지정합니다. 한글 지원이 되는 ```distiluse-base-multilingual-cased-v1```를 지정합니다."
   ]
  },
  {
   "cell_type": "code",
   "execution_count": null,
   "id": "54952ca4",
   "metadata": {},
   "outputs": [],
   "source": [
    "from langchain_huggingface import HuggingFaceEmbeddings\n",
    "\n",
    "# embedding_model_name = \"distiluse-base-multilingual-cased-v1\"\n",
    "embedding_model_name = \"intfloat/multilingual-e5-base\"\n",
    "embeddings = HuggingFaceEmbeddings(model_name=embedding_model_name)"
   ]
  },
  {
   "cell_type": "code",
   "execution_count": null,
   "id": "ccc67ee5",
   "metadata": {},
   "outputs": [],
   "source": [
    "len(docs)"
   ]
  },
  {
   "cell_type": "code",
   "execution_count": null,
   "id": "76a29906",
   "metadata": {},
   "outputs": [],
   "source": [
    "print(docs)"
   ]
  },
  {
   "cell_type": "markdown",
   "id": "f16d0cef",
   "metadata": {},
   "source": [
    "랭체인 Milvus를 객체를 이용하여 문서를 벡터 디비에 인서트 합니다.  "
   ]
  },
  {
   "cell_type": "code",
   "execution_count": null,
   "id": "40ffd103",
   "metadata": {},
   "outputs": [],
   "source": [
    "vector_db_milvus = Milvus.from_documents(\n",
    "    docs,\n",
    "    embeddings,\n",
    "    connection_args={\"host\": MILVUS_DB_HOST, \n",
    "                     \"port\": MILVUS_DB_PORT,\n",
    "                     \"user\": MILVUS_DB_USER,\n",
    "                     \"password\": MILVUS_DB_PWD\n",
    "                    },\n",
    "    collection_name = COLLECTION_NAME, ## custom collection name \n",
    "    search_params = {\"metric\":\"IP\",\"offset\":0}, ## search params\n",
    ")"
   ]
  },
  {
   "cell_type": "markdown",
   "id": "cb86b476",
   "metadata": {},
   "source": [
    "옵션) 저장된 정보를 조회하기 위해 사용"
   ]
  },
  {
   "cell_type": "code",
   "execution_count": null,
   "id": "e6b19b54",
   "metadata": {},
   "outputs": [],
   "source": [
    "# vector_db_milvus = Milvus(\n",
    "#             embeddings,\n",
    "#             connection_args={\"host\": MILVUS_DB_HOST, \"port\": MILVUS_DB_PORT},\n",
    "#             collection_name = COLLECTION_NAME, ## custom collection name \n",
    "#             search_params = {\"metric\":\"IP\",\"offset\":0}, ## search params\n",
    "# )"
   ]
  },
  {
   "cell_type": "markdown",
   "id": "28960a28",
   "metadata": {},
   "source": [
    "Milvus DB에 저장된 데이터를 조회 합니다."
   ]
  },
  {
   "cell_type": "code",
   "execution_count": null,
   "id": "43724c73",
   "metadata": {},
   "outputs": [],
   "source": [
    "query = \"기업의 생성형AI 도입 현황은?\"\n",
    "docs = vector_db_milvus.similarity_search(\n",
    "    query,\n",
    "    k=2\n",
    "    )"
   ]
  },
  {
   "cell_type": "code",
   "execution_count": null,
   "id": "460f156c",
   "metadata": {},
   "outputs": [],
   "source": [
    "len(docs)"
   ]
  },
  {
   "cell_type": "code",
   "execution_count": null,
   "id": "3d45188d",
   "metadata": {},
   "outputs": [],
   "source": [
    "for doc in docs:\n",
    "    print(doc)\n",
    "    print()"
   ]
  },
  {
   "cell_type": "markdown",
   "id": "0a699ad3",
   "metadata": {},
   "source": [
    "# MilvusDB를 적용한 RAG 시스템 구현\n",
    "MilvusDB는 벡터 검색 및 분석에 특화된 NoSQL 데이터베이스입니다. 텍스트, 이미지, 오디오 등 다양한 데이터를 벡터 형태로 저장하고 효율적인 검색을 제공합니다.   \n",
    "1. 문서 벡터화: MilvusDB에 저장할 문서를 벡터 형태로 변환합니다. 텍스트 문서의 경우 TF-IDF, Word2Vec, BERT 등 다양한 방법을 사용하여 벡터화할 수 있습니다.\n",
    "2. MilvusDB에 데이터 저장: 벡터화된 문서를 MilvusDB에 저장합니다. MilvusDB는 벡터 검색 속도가 빠르기 때문에 질의와 관련된 문서를 빠르게 찾을 수 있습니다.\n",
    "3. 질의 벡터화: 사용자 질의를 벡터 형태로 변환합니다. 질의 벡터화 방법은 문서 벡터화 방법과 동일할 수 있습니다.\n",
    "4. MilvusDB에서 유사 문서 검색: 질의 벡터를 기반으로 MilvusDB에서 유사한 문서를 검색합니다. 검색된 문서는 RAG 시스템에서 새로운 텍스트를 생성하는 데 사용됩니다.\n",
    "새로운 텍스트 생성: 검색된 문서를 기반으로 새로운 텍스트를 생성합니다. Transformer 기반 모델, Seq2Seq 모델 등 다양한 모델을 사용하여 새로운 텍스트를 생성할 수 있습니다."
   ]
  },
  {
   "cell_type": "code",
   "execution_count": null,
   "id": "55d84338",
   "metadata": {},
   "outputs": [],
   "source": [
    "from pymilvus import (\n",
    "    connections,\n",
    "    Collection\n",
    ")\n",
    "from sentence_transformers import SentenceTransformer\n",
    "from langchain.docstore.document import Document\n",
    "from langchain.chains.question_answering import load_qa_chain\n",
    "from langchain.prompts import PromptTemplate\n",
    "\n",
    "from ibm_watson_machine_learning.metanames import GenTextParamsMetaNames as GenParams\n",
    "from ibm_watson_machine_learning.foundation_models import Model\n",
    "from ibm_watson_machine_learning.foundation_models.extensions.langchain import WatsonxLLM\n",
    "\n",
    "\n"
   ]
  },
  {
   "cell_type": "code",
   "execution_count": null,
   "id": "3a68a8c7",
   "metadata": {},
   "outputs": [],
   "source": [
    "def milvus_search(query, COLLECTION_NAME,embedding_model_name):\n",
    "    model_name = embedding_model_name\n",
    "    collection_name = COLLECTION_NAME\n",
    "    connections.connect(\"default\", host=MILVUS_DB_HOST, port=MILVUS_DB_PORT, user=MILVUS_DB_USER, password=MILVUS_DB_PWD )  \n",
    "    collection = Collection(collection_name)\n",
    "    collection.load()\n",
    "    search_params = {\n",
    "        \"metric_type\": \"L2\",\n",
    "        \"params\": {\"ef\": 10},\n",
    "    }\n",
    "    model = SentenceTransformer(model_name)\n",
    "    vectors_to_search = model.encode([query]).tolist()\n",
    "\n",
    "    result = collection.search(vectors_to_search, \"vector\", search_params,\n",
    "                                limit=3,\n",
    "                                output_fields=[\"text\", \"vector\"],\n",
    "                                )\n",
    "\n",
    "    hits = result[0]\n",
    "    def text2doc(t):\n",
    "        return Document(page_content = t)\n",
    "\n",
    "    docs = [text2doc(h.entity.get('text')) for h in hits]\n",
    "    return docs"
   ]
  },
  {
   "cell_type": "code",
   "execution_count": null,
   "id": "3cd37b70",
   "metadata": {},
   "outputs": [],
   "source": [
    "api_key = \"<CLOUD_API_KEY>\"\n",
    "# region에 따라 주소가 다를 수 있습니다. 주소를 확인해 주세요.\n",
    "ibm_cloud_url = \"https://us-south.ml.cloud.ibm.com\" \n",
    "project_id = \"<MY_PROJECT_ID>\"\n",
    "\n",
    "if api_key is None or ibm_cloud_url is None or project_id is None:\n",
    "    raise Exception(\"One or more environment variables are missing!\")\n",
    "else:\n",
    "    creds = {\n",
    "        \"url\": ibm_cloud_url,\n",
    "        \"apikey\": api_key \n",
    "    }"
   ]
  },
  {
   "cell_type": "code",
   "execution_count": null,
   "id": "b8f7fca9",
   "metadata": {},
   "outputs": [],
   "source": [
    "# watsonx model 초기화\n",
    "params = {\n",
    "#     GenParams.DECODING_METHOD: \"sample\",\n",
    "#     GenParams.TEMPERATURE: 0.2,\n",
    "#     GenParams.TOP_P: 1,\n",
    "#     GenParams.TOP_K: 100,\n",
    "    GenParams.DECODING_METHOD: \"greedy\",\n",
    "    GenParams.TEMPERATURE:  0.7,\n",
    "    GenParams.MIN_NEW_TOKENS: 50,\n",
    "    GenParams.MAX_NEW_TOKENS: 1000\n",
    "}\n",
    "\n",
    "model_llm = Model(\n",
    "    model_id=\"meta-llama/llama-3-3-70b-instruct\",\n",
    "    params=params,\n",
    "    credentials=creds,\n",
    "    project_id=project_id\n",
    ").to_langchain()"
   ]
  },
  {
   "cell_type": "code",
   "execution_count": null,
   "id": "80491569",
   "metadata": {},
   "outputs": [],
   "source": [
    "user_input = '기업의 생성형AI 도입 현황은?'\n",
    "# user_input = \"기업에서 생성형 AI를 도입하는 가치는?\"\n",
    "# user_input = \"기업에서 생성형 AI를 도입하기 위해 고려사항은?\"\n",
    "# user_input = \"기업에서 생성형 AI 도입을 가로막는 가장 큰 장애물은?\"\n",
    "\n",
    "docs_search = milvus_search(user_input,COLLECTION_NAME,embedding_model_name)\n",
    "print(docs_search)"
   ]
  },
  {
   "cell_type": "code",
   "execution_count": null,
   "id": "d6325305",
   "metadata": {},
   "outputs": [],
   "source": [
    "chain_types = \"stuff\"\n",
    "# chain_types = \"map_reduce\"\n",
    "# chain_types = \"refine\"\n",
    "\n",
    "chain = load_qa_chain(model_llm, chain_type=chain_types)\n",
    "response = chain.run(input_documents=docs_search, question=user_input+\". 한국어로 답하시오.\")\n",
    "print(response)"
   ]
  },
  {
   "cell_type": "markdown",
   "id": "baee1500",
   "metadata": {},
   "source": [
    "# 자원삭제"
   ]
  },
  {
   "cell_type": "markdown",
   "id": "ef038976",
   "metadata": {},
   "source": [
    "핸즈온을 완료후 자신이 생성한 콜렉션을 삭제합니다."
   ]
  },
  {
   "cell_type": "code",
   "execution_count": null,
   "metadata": {},
   "outputs": [],
   "source": [
    "from pymilvus import (\n",
    "    connections,\n",
    "    Collection\n",
    ")\n",
    "connections.connect(\n",
    "  alias=\"default\",\n",
    "  host=MILVUS_DB_HOST, # YOUR IP\n",
    "  port=MILVUS_DB_PORT,      # YOUR PORT\n",
    "  user=MILVUS_DB_USER,\n",
    "  password=MILVUS_DB_PWD\n",
    ")\n",
    "\n",
    "\n",
    "utility.drop_collection(COLLECTION_NAME)\n",
    "\n",
    "connections.disconnect(\"default\")"
   ]
  }
 ],
 "metadata": {
  "kernelspec": {
   "display_name": ".venv",
   "language": "python",
   "name": "python3"
  },
  "language_info": {
   "codemirror_mode": {
    "name": "ipython",
    "version": 3
   },
   "file_extension": ".py",
   "mimetype": "text/x-python",
   "name": "python",
   "nbconvert_exporter": "python",
   "pygments_lexer": "ipython3",
   "version": "3.11.6"
  }
 },
 "nbformat": 4,
 "nbformat_minor": 5
}
